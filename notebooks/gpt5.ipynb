{
 "cells": [
  {
   "cell_type": "markdown",
   "id": "d966f40b",
   "metadata": {},
   "source": []
  },
  {
   "cell_type": "markdown",
   "id": "f5062d29",
   "metadata": {},
   "source": [
    "## aihubmix gpt5"
   ]
  },
  {
   "cell_type": "code",
   "execution_count": null,
   "id": "ac5f388a",
   "metadata": {},
   "outputs": [
    {
     "name": "stdout",
     "output_type": "stream",
     "text": [
      "gpt-5-mini\n",
      "gpt-5-chat-latest\n",
      "gpt-5\n",
      "gpt-5-nano\n"
     ]
    }
   ],
   "source": [
    "import os\n",
    "from openai import OpenAI\n",
    "from dotenv import load_dotenv, find_dotenv\n",
    "load_dotenv(find_dotenv(), override=True)\n",
    "\n",
    "client = OpenAI(\n",
    "    api_key=os.getenv(\"AIHUBMIX_API_KEY\"),\n",
    "    base_url=os.getenv(\"AIHUBMIX_API_BASE_URL\"),\n",
    ")\n",
    "\n",
    "for model in client.models.list():\n",
    "  if model.id.startswith(\"gpt-5\"):\n",
    "    print(model.id)"
   ]
  },
  {
   "cell_type": "code",
   "execution_count": 8,
   "id": "dbb6d921",
   "metadata": {},
   "outputs": [
    {
     "name": "stdout",
     "output_type": "stream",
     "text": [
      "我是 ChatGPT，一个由 OpenAI 训练的人工智能助手。你可以叫我 ChatGPT 或者“助手”。有什么我可以帮你的吗？None\n",
      " CompletionUsage(completion_tokens=115, prompt_tokens=19, total_tokens=134, completion_tokens_details=CompletionTokensDetails(accepted_prediction_tokens=0, audio_tokens=0, reasoning_tokens=64, rejected_prediction_tokens=0), prompt_tokens_details=PromptTokensDetails(audio_tokens=0, cached_tokens=0))"
     ]
    }
   ],
   "source": [
    "response = client.chat.completions.create(\n",
    "    model=\"gpt-5-mini\",\n",
    "    messages=[\n",
    "        {\"role\": \"system\", \"content\": \"You are a helpful assistant.\"},\n",
    "        {\"role\": \"user\", \"content\": \"你叫什么名字\"}\n",
    "    ],\n",
    "    stream=True\n",
    ")\n",
    "\n",
    "for chunk in response:\n",
    "    if len(chunk.choices) > 0:\n",
    "      print(chunk.choices[0].delta.content, end=\"\", flush=True)\n",
    "    else:\n",
    "      print(\"\\n\", chunk.usage, end=\"\", flush=True)\n"
   ]
  }
 ],
 "metadata": {
  "kernelspec": {
   "display_name": ".venv",
   "language": "python",
   "name": "python3"
  },
  "language_info": {
   "codemirror_mode": {
    "name": "ipython",
    "version": 3
   },
   "file_extension": ".py",
   "mimetype": "text/x-python",
   "name": "python",
   "nbconvert_exporter": "python",
   "pygments_lexer": "ipython3",
   "version": "3.12.11"
  }
 },
 "nbformat": 4,
 "nbformat_minor": 5
}
